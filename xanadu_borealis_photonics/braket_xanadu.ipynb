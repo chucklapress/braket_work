{
 "cells": [
  {
   "cell_type": "code",
   "execution_count": 1,
   "id": "cfbcc306",
   "metadata": {},
   "outputs": [
    {
     "name": "stderr",
     "output_type": "stream",
     "text": [
      "2023-03-27 14:58:42.478308: I tensorflow/core/platform/cpu_feature_guard.cc:193] This TensorFlow binary is optimized with oneAPI Deep Neural Network Library (oneDNN) to use the following CPU instructions in performance-critical operations:  AVX2 AVX512F FMA\n",
      "To enable them in other operations, rebuild TensorFlow with the appropriate compiler flags.\n"
     ]
    }
   ],
   "source": [
    "import strawberryfields as sf\n",
    "import numpy as np\n",
    "from braket.strawberryfields_plugin import BraketEngine\n",
    "\n",
    "eng = BraketEngine(\"arn:aws:braket:us-east-1::device/qpu/xanadu/Borealis\")\n",
    "device = eng.device"
   ]
  },
  {
   "cell_type": "code",
   "execution_count": 2,
   "id": "ca42c6f7",
   "metadata": {},
   "outputs": [
    {
     "data": {
      "text/plain": [
       "{'low': 0.714, 'high': 1.178, 'medium': 0.988}"
      ]
     },
     "execution_count": 2,
     "metadata": {},
     "output_type": "execute_result"
    }
   ],
   "source": [
    "device.certificate[\"squeezing_parameters_mean\"]"
   ]
  },
  {
   "cell_type": "code",
   "execution_count": 3,
   "id": "948ef0ea",
   "metadata": {},
   "outputs": [
    {
     "data": {
      "text/plain": [
       "{'finished_at': '2023-03-27T13:51:27.619274+00:00',\n",
       " 'target': 'borealis',\n",
       " 'loop_phases': [-1.698, 1.005, 0.585],\n",
       " 'schmidt_number': 1.137,\n",
       " 'common_efficiency': 0.368,\n",
       " 'loop_efficiencies': [0.876, 0.89, 0.728],\n",
       " 'squeezing_parameters_mean': {'low': 0.714, 'high': 1.178, 'medium': 0.988},\n",
       " 'relative_channel_efficiencies': [0.933,\n",
       "  0.937,\n",
       "  0.917,\n",
       "  0.999,\n",
       "  0.972,\n",
       "  0.921,\n",
       "  0.9,\n",
       "  0.967,\n",
       "  0.959,\n",
       "  0.959,\n",
       "  0.972,\n",
       "  1.0,\n",
       "  0.958,\n",
       "  0.975,\n",
       "  0.955,\n",
       "  0.899]}"
      ]
     },
     "execution_count": 3,
     "metadata": {},
     "output_type": "execute_result"
    }
   ],
   "source": [
    "device.certificate"
   ]
  },
  {
   "cell_type": "code",
   "execution_count": 4,
   "id": "80ac08e6",
   "metadata": {},
   "outputs": [
    {
     "name": "stderr",
     "output_type": "stream",
     "text": [
      "2023-03-27 15:01:32,155 - WARNING - 127/259 arguments of phase gate 1 have been shifted by pi in order to be compatible with the phase modulators.\n",
      "2023-03-27 15:01:32,159 - WARNING - 127/259 arguments of phase gate 2 have been shifted by pi in order to be compatible with the phase modulators.\n"
     ]
    }
   ],
   "source": [
    "from strawberryfields.tdm import borealis_gbs, get_mode_indices\n",
    "\n",
    "gate_args_list = borealis_gbs(device, modes=216, squeezing=\"high\")\n",
    "delays = [1, 6, 36]\n",
    "n, N = get_mode_indices(delays)"
   ]
  },
  {
   "cell_type": "code",
   "execution_count": 5,
   "id": "86826d1b",
   "metadata": {},
   "outputs": [],
   "source": [
    "from strawberryfields.ops import Sgate, Rgate, BSgate, MeasureFock\n",
    "\n",
    "prog = sf.TDMProgram(N)\n",
    "\n",
    "with prog.context(*gate_args_list) as (p, q):\n",
    "    Sgate(p[0]) | q[n[0]]\n",
    "    for i in range(len(delays)):\n",
    "        Rgate(p[2 * i + 1]) | q[n[i]]\n",
    "        BSgate(p[2 * i + 2], np.pi / 2) | (q[n[i + 1]], q[n[i]])\n",
    "    MeasureFock() | q[0]"
   ]
  },
  {
   "cell_type": "code",
   "execution_count": 6,
   "id": "0e58d57f",
   "metadata": {},
   "outputs": [
    {
     "name": "stdout",
     "output_type": "stream",
     "text": [
      "[[[0 2 0 ... 1 2 0]]\n",
      "\n",
      " [[0 0 1 ... 0 0 0]]\n",
      "\n",
      " [[0 0 0 ... 0 0 0]]\n",
      "\n",
      " ...\n",
      "\n",
      " [[0 0 0 ... 0 0 0]]\n",
      "\n",
      " [[0 0 0 ... 0 0 0]]\n",
      "\n",
      " [[1 0 1 ... 0 0 0]]]\n"
     ]
    }
   ],
   "source": [
    "shots = 1000\n",
    "results = eng.run(prog, shots=shots, crop=True)\n",
    "print(results.samples)"
   ]
  },
  {
   "cell_type": "code",
   "execution_count": null,
   "id": "0ab7f0ef",
   "metadata": {},
   "outputs": [],
   "source": []
  }
 ],
 "metadata": {
  "kernelspec": {
   "display_name": "conda_braket",
   "language": "python",
   "name": "conda_braket"
  },
  "language_info": {
   "codemirror_mode": {
    "name": "ipython",
    "version": 3
   },
   "file_extension": ".py",
   "mimetype": "text/x-python",
   "name": "python",
   "nbconvert_exporter": "python",
   "pygments_lexer": "ipython3",
   "version": "3.8.16"
  }
 },
 "nbformat": 4,
 "nbformat_minor": 5
}
