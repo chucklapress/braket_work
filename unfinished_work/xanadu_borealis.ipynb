{
 "cells": [
  {
   "cell_type": "code",
   "execution_count": 1,
   "id": "b5f54c53",
   "metadata": {},
   "outputs": [],
   "source": [
    "%matplotlib inline"
   ]
  },
  {
   "cell_type": "code",
   "execution_count": 2,
   "id": "5133ff8c",
   "metadata": {},
   "outputs": [
    {
     "name": "stderr",
     "output_type": "stream",
     "text": [
      "2023-03-15 02:20:56.942207: I tensorflow/core/platform/cpu_feature_guard.cc:193] This TensorFlow binary is optimized with oneAPI Deep Neural Network Library (oneDNN) to use the following CPU instructions in performance-critical operations:  AVX2 AVX512F FMA\n",
      "To enable them in other operations, rebuild TensorFlow with the appropriate compiler flags.\n"
     ]
    }
   ],
   "source": [
    "import strawberryfields as sf\n",
    "from strawberryfields.ops import *\n",
    "\n",
    "import numpy as np\n",
    "from numpy import pi, sqrt\n",
    "\n",
    "# set the random seed\n",
    "np.random.seed(42)"
   ]
  },
  {
   "cell_type": "code",
   "execution_count": 3,
   "id": "89eaa4bf",
   "metadata": {},
   "outputs": [],
   "source": [
    "prog = sf.Program(3)"
   ]
  },
  {
   "cell_type": "code",
   "execution_count": 4,
   "id": "1438a194",
   "metadata": {},
   "outputs": [],
   "source": [
    "alpha = 1+0.5j\n",
    "r = np.abs(alpha)\n",
    "phi = np.angle(alpha)\n",
    "\n",
    "with prog.context as q:\n",
    "    # prepare initial states\n",
    "    Coherent(r, phi) | q[0]\n",
    "    Squeezed(-2) | q[1]\n",
    "    Squeezed(2) | q[2]\n",
    "\n",
    "    # apply gates\n",
    "    BS = BSgate(pi/4, pi)\n",
    "    BS | (q[1], q[2])\n",
    "    BS | (q[0], q[1])\n",
    "\n",
    "    # Perform homodyne measurements\n",
    "    MeasureX | q[0]\n",
    "    MeasureP | q[1]\n",
    "\n",
    "    # Displacement gates conditioned on\n",
    "    # the measurements\n",
    "    Xgate(sqrt(2) * q[0].par) | q[2]\n",
    "    Zgate(-sqrt(2) * q[1].par) | q[2]"
   ]
  },
  {
   "cell_type": "code",
   "execution_count": 5,
   "id": "cefce7b2",
   "metadata": {},
   "outputs": [],
   "source": [
    "eng = sf.Engine('fock', backend_options={\"cutoff_dim\": 15})"
   ]
  },
  {
   "cell_type": "code",
   "execution_count": 6,
   "id": "7a13ba08",
   "metadata": {},
   "outputs": [],
   "source": [
    "result = eng.run(prog, shots=1, modes=None, compile_options={})"
   ]
  },
  {
   "cell_type": "code",
   "execution_count": 7,
   "id": "c00672cd",
   "metadata": {},
   "outputs": [
    {
     "name": "stdout",
     "output_type": "stream",
     "text": [
      "[[0.19890199 0.17330173]]\n"
     ]
    }
   ],
   "source": [
    "print(result.samples)"
   ]
  },
  {
   "cell_type": "code",
   "execution_count": 8,
   "id": "da3ccbf6",
   "metadata": {},
   "outputs": [
    {
     "name": "stdout",
     "output_type": "stream",
     "text": [
      "<FockState: num_modes=3, cutoff=15, pure=False, hbar=2>\n"
     ]
    }
   ],
   "source": [
    "print(result.state)\n",
    "state = result.state\n"
   ]
  },
  {
   "cell_type": "code",
   "execution_count": 9,
   "id": "c4343c9c",
   "metadata": {},
   "outputs": [
    {
     "name": "stdout",
     "output_type": "stream",
     "text": [
      "(15, 15, 15, 15, 15, 15)\n"
     ]
    }
   ],
   "source": [
    "print(state.dm().shape)"
   ]
  },
  {
   "cell_type": "code",
   "execution_count": 10,
   "id": "27fe49cd",
   "metadata": {},
   "outputs": [
    {
     "name": "stdout",
     "output_type": "stream",
     "text": [
      "(15, 15)\n"
     ]
    }
   ],
   "source": [
    "rho2 = np.einsum('kkllij->ij', state.dm())\n",
    "print(rho2.shape)"
   ]
  },
  {
   "cell_type": "code",
   "execution_count": 11,
   "id": "87bc349c",
   "metadata": {},
   "outputs": [
    {
     "name": "stdout",
     "output_type": "stream",
     "text": [
      "[3.10694907e-01 3.62467630e-01 2.11807608e-01 8.23802050e-02\n",
      " 2.43874177e-02 5.83556629e-03 1.26776314e-03 2.37656289e-04\n",
      " 8.43934922e-05 1.78787082e-06 1.52342119e-04 1.07036413e-05\n",
      " 3.36055927e-04 1.47426072e-05 1.92773805e-04]\n"
     ]
    }
   ],
   "source": [
    "probs = np.real_if_close(np.diagonal(rho2))\n",
    "print(probs)"
   ]
  },
  {
   "cell_type": "code",
   "execution_count": 12,
   "id": "424a8867",
   "metadata": {},
   "outputs": [
    {
     "data": {
      "image/png": "[encoded data removed]",
      "text/plain": [
       "<Figure size 640x480 with 1 Axes>"
      ]
     },
     "metadata": {},
     "output_type": "display_data"
    }
   ],
   "source": [
    "from matplotlib import pyplot as plt\n",
    "plt.bar(range(7), probs[:7])\n",
    "plt.xlabel('Fock state')\n",
    "plt.ylabel('Marginal probability')\n",
    "plt.title('Mode 2')\n",
    "plt.show()"
   ]
  },
  {
   "cell_type": "code",
   "execution_count": 13,
   "id": "24494313",
   "metadata": {},
   "outputs": [
    {
     "name": "stdout",
     "output_type": "stream",
     "text": [
      "[3.10694907e-01 3.62467630e-01 2.11807608e-01 8.23802050e-02\n",
      " 2.43874177e-02 5.83556629e-03 1.26776314e-03 2.37656289e-04\n",
      " 8.43934922e-05 1.78787082e-06 1.52342119e-04 1.07036413e-05\n",
      " 3.36055927e-04 1.47426072e-05 1.92773805e-04]\n"
     ]
    }
   ],
   "source": [
    "fock_probs = state.all_fock_probs()\n",
    "fock_probs.shape\n",
    "print(np.sum(fock_probs, axis=(0,1)))"
   ]
  },
  {
   "cell_type": "code",
   "execution_count": 14,
   "id": "05507bfd",
   "metadata": {},
   "outputs": [],
   "source": [
    "from strawberryfields.ops import Sgate, BSgate, Rgate, MeasureHomodyne\n"
   ]
  },
  {
   "cell_type": "code",
   "execution_count": 15,
   "id": "de9fb73c",
   "metadata": {},
   "outputs": [],
   "source": [
    "np.random.seed(42)\n",
    "n = 20\n",
    "\n",
    "r = 1.0\n",
    "length = n - 1\n",
    "alpha = [np.pi / 4] * length\n",
    "phi = [0] * length\n",
    "theta = [0] * length\n",
    "\n",
    "prog0 = sf.Program(n)\n",
    "with prog0.context as q:\n",
    "    for i in range(n - 1):\n",
    "        Sgate(r) | q[i + 1]\n",
    "        BSgate(alpha[i]) | (q[i], q[i + 1])\n",
    "        Rgate(phi[i]) | q[i + 1]\n",
    "        MeasureHomodyne(theta[i]) | q[i]\n",
    "eng0 = sf.Engine(\"gaussian\")\n",
    "result0 = eng0.run(prog0)"
   ]
  },
  {
   "cell_type": "code",
   "execution_count": 16,
   "id": "563dcba1",
   "metadata": {},
   "outputs": [
    {
     "name": "stdout",
     "output_type": "stream",
     "text": [
      "[[-0.10417347  0.60228311 -0.00316101  0.34561221  0.25296546 -0.13280689\n",
      "  -0.67985316 -0.19192785  0.12600941 -0.51235116 -0.07813559 -0.52072239\n",
      "   0.04318271  0.13989725 -0.10611505  0.68226231 -0.38850925 -0.44870008\n",
      "  -0.72062428]]\n"
     ]
    }
   ],
   "source": [
    "print(result0.samples)"
   ]
  },
  {
   "cell_type": "code",
   "execution_count": 17,
   "id": "6c4da037",
   "metadata": {},
   "outputs": [
    {
     "data": {
      "text/plain": [
       "[1, 2, 3, 4, 0]"
      ]
     },
     "execution_count": 17,
     "metadata": {},
     "output_type": "execute_result"
    }
   ],
   "source": [
    "from strawberryfields.tdm.program import shift_by\n",
    "\n",
    "l = [0, 1, 2, 3, 4]\n",
    "shift_by(l, 1)\n"
   ]
  },
  {
   "cell_type": "code",
   "execution_count": 18,
   "id": "7911a81c",
   "metadata": {},
   "outputs": [
    {
     "name": "stdout",
     "output_type": "stream",
     "text": [
      "[[-0.72062428 -0.44870008]]\n"
     ]
    }
   ],
   "source": [
    "np.random.seed(42)  \n",
    "prog1 = sf.Program(2)\n",
    "n = 20\n",
    "with prog1.context as q:\n",
    "    for i in range(n - 1):\n",
    "        Sgate(r) | q[1]\n",
    "        BSgate(alpha[i]) | (q[0], q[1])\n",
    "        Rgate(phi[i]) | q[1]\n",
    "        MeasureHomodyne(theta[i]) | q[0]\n",
    "        \n",
    "        q = shift_by(q, 1)\n",
    "eng1 = sf.Engine(\"gaussian\")\n",
    "result1 = eng1.run(prog1)\n",
    "print(result1.samples)"
   ]
  },
  {
   "cell_type": "code",
   "execution_count": 19,
   "id": "9b2875cf",
   "metadata": {},
   "outputs": [
    {
     "name": "stdout",
     "output_type": "stream",
     "text": [
      "{0: [array([-0.10417347]), array([-0.00316101]), array([0.25296546]), array([-0.67985316]), array([0.12600941]), array([-0.07813559]), array([0.04318271]), array([-0.10611505]), array([-0.38850925]), array([-0.72062428])], 1: [array([0.60228311]), array([0.34561221]), array([-0.13280689]), array([-0.19192785]), array([-0.51235116]), array([-0.52072239]), array([0.13989725]), array([0.68226231]), array([-0.44870008])]}\n"
     ]
    }
   ],
   "source": [
    "print(result1.samples_dict)"
   ]
  },
  {
   "cell_type": "code",
   "execution_count": 20,
   "id": "ef6e6fb2",
   "metadata": {},
   "outputs": [
    {
     "name": "stdout",
     "output_type": "stream",
     "text": [
      "[[[-0.10417347  0.60228311 -0.00316101  0.34561221  0.25296546\n",
      "   -0.13280689 -0.67985316 -0.19192785  0.12600941 -0.51235116\n",
      "   -0.07813559 -0.52072239  0.04318271  0.13989725 -0.10611505\n",
      "    0.68226231 -0.38850925 -0.44870008 -0.72062428]]]\n"
     ]
    }
   ],
   "source": [
    "np.random.seed(42) \n",
    "N = 2  \n",
    "prog2 = sf.TDMProgram(N=N)\n",
    "\n",
    "with prog2.context(alpha, phi, theta) as (p, q):\n",
    "    Sgate(r, 0) | q[1]\n",
    "    BSgate(p[0]) | (q[0], q[1])\n",
    "    Rgate(p[1]) | q[1]\n",
    "    MeasureHomodyne(p[2]) | q[0]\n",
    "eng2 = sf.Engine(\"gaussian\")\n",
    "result2 = eng2.run(prog2)\n",
    "print(result2.samples)"
   ]
  },
  {
   "cell_type": "code",
   "execution_count": 21,
   "id": "b3e6c2ec",
   "metadata": {},
   "outputs": [],
   "source": [
    "def singleloop(r, alpha, phi, theta, shots):\n",
    "    \"\"\"Single loop program.\n",
    "\n",
    "    Args:\n",
    "        r (float): squeezing parameter\n",
    "        alpha (Sequence[float]): beamsplitter angles\n",
    "        phi (Sequence[float]): rotation angles\n",
    "        theta (Sequence[float]): homodyne measurement angles\n",
    "        shots (int): number of times the circuit is sampled\n",
    "    Returns:\n",
    "        list: homodyne samples from the single loop simulation\n",
    "    \"\"\"\n",
    "\n",
    "    prog = sf.TDMProgram(N=2)\n",
    "    with prog.context(alpha, phi, theta) as (p, q):\n",
    "        Sgate(r, 0) | q[1]\n",
    "        BSgate(p[0]) | (q[0], q[1])\n",
    "        Rgate(p[1]) | q[1]\n",
    "        MeasureHomodyne(p[2]) | q[0]\n",
    "    eng = sf.Engine(\"gaussian\")\n",
    "    result = eng.run(prog, shots=shots)\n",
    "    # We only want the samples from concurrent mode 0\n",
    "    return result.samples_dict[0]"
   ]
  },
  {
   "cell_type": "code",
   "execution_count": 22,
   "id": "d5c86aa2",
   "metadata": {},
   "outputs": [
    {
     "data": {
      "text/plain": [
       "array([[-0.10417347,  0.60228311, -0.00316101,  0.34561221,  0.25296546,\n",
       "        -0.13280689, -0.67985316, -0.19192785,  0.12600941, -0.51235116,\n",
       "        -0.07813559, -0.52072239,  0.04318271,  0.13989725, -0.10611505,\n",
       "         0.68226231, -0.38850925, -0.44870008, -0.72062428]])"
      ]
     },
     "execution_count": 22,
     "metadata": {},
     "output_type": "execute_result"
    }
   ],
   "source": [
    "np.random.seed(42)  \n",
    "singleloop(r, alpha, phi, theta, 1)  "
   ]
  },
  {
   "cell_type": "code",
   "execution_count": 23,
   "id": "2253ebf5",
   "metadata": {},
   "outputs": [],
   "source": [
    "r = 2.0\n",
    "alpha = [np.pi / 4, 0]\n",
    "phi = [0, np.pi / 2]\n",
    "theta = [0, 0]  # We will measure the positions by setting theta = [0,0]\n",
    "shots = 2500\n",
    "\n",
    "samplesEPRxx = singleloop(r, alpha, phi, theta, shots)"
   ]
  },
  {
   "cell_type": "code",
   "execution_count": 24,
   "id": "1205cfda",
   "metadata": {},
   "outputs": [
    {
     "data": {
      "image/png": "[encoded data removed]",
      "text/plain": [
       "<Figure size 500x500 with 1 Axes>"
      ]
     },
     "metadata": {},
     "output_type": "display_data"
    }
   ],
   "source": [
    "samplesxx = samplesEPRxx.T\n",
    "x0 = samplesxx[0]\n",
    "x1 = samplesxx[1]\n",
    "\n",
    "# We now want to look at the samples\n",
    "import matplotlib.pyplot as plt\n",
    "\n",
    "plt.figure(figsize=(5, 5))\n",
    "plt.plot(x0, x1, \".\")\n",
    "plt.xlabel(r\"$x_0$\")\n",
    "plt.ylabel(r\"$x_{1}$\")\n",
    "plt.show()"
   ]
  },
  {
   "cell_type": "code",
   "execution_count": 25,
   "id": "af01698a",
   "metadata": {},
   "outputs": [
    {
     "data": {
      "text/plain": [
       "0.03650153317129029"
      ]
     },
     "execution_count": 25,
     "metadata": {},
     "output_type": "execute_result"
    }
   ],
   "source": [
    "sample_var_xx = np.var(x0 - x1)\n",
    "sample_var_xx"
   ]
  },
  {
   "cell_type": "code",
   "execution_count": 26,
   "id": "8504a669",
   "metadata": {},
   "outputs": [
    {
     "data": {
      "text/plain": [
       "0.03663127777746836"
      ]
     },
     "execution_count": 26,
     "metadata": {},
     "output_type": "execute_result"
    }
   ],
   "source": [
    "expected_var_xx = 2 * np.exp(-2 * r)\n",
    "expected_var_xx"
   ]
  },
  {
   "cell_type": "code",
   "execution_count": 27,
   "id": "edfe7800",
   "metadata": {},
   "outputs": [
    {
     "data": {
      "image/png": "[encoded data removed]",
      "text/plain": [
       "<Figure size 500x500 with 1 Axes>"
      ]
     },
     "metadata": {},
     "output_type": "display_data"
    }
   ],
   "source": [
    "theta = [np.pi / 2, np.pi / 2]  # Now we homodyne the p-quadratures by setting thr angle to pi/2\n",
    "samplesEPRpp = singleloop(r, alpha, phi, theta, shots)\n",
    "\n",
    "samplespp = samplesEPRpp.T\n",
    "p0 = samplespp[0]\n",
    "p1 = samplespp[1]\n",
    "\n",
    "plt.figure(figsize=(5, 5))\n",
    "plt.plot(p0, p1, \".\")\n",
    "plt.xlabel(r\"$p_0$\")\n",
    "plt.ylabel(r\"$p_{1}$\")\n",
    "plt.show()"
   ]
  },
  {
   "cell_type": "code",
   "execution_count": 28,
   "id": "a628b6a1",
   "metadata": {},
   "outputs": [
    {
     "data": {
      "text/plain": [
       "(0.035484004498602846, 0.03663127777746836)"
      ]
     },
     "execution_count": 28,
     "metadata": {},
     "output_type": "execute_result"
    }
   ],
   "source": [
    "np.var(p0 + p1), 2 * np.exp(-2 * r)"
   ]
  },
  {
   "cell_type": "code",
   "execution_count": 29,
   "id": "ef929ed8",
   "metadata": {},
   "outputs": [
    {
     "data": {
      "text/plain": [
       "array([[-1.52220534, -1.23988693, -1.26801579, -1.23267925, -1.26416284,\n",
       "        -1.2843186 , -1.26506774, -1.28691118, -1.24585304, -1.23932062,\n",
       "        -1.2995661 ]])"
      ]
     },
     "execution_count": 29,
     "metadata": {},
     "output_type": "execute_result"
    }
   ],
   "source": [
    "n = 10\n",
    "vac_modes = 1  # This is an ancilla mode that is used at the beginning of the protocol\n",
    "shots = 1\n",
    "r = 4\n",
    "alpha = [np.arccos(np.sqrt(1 / (n - i + 1))) if i != n + 1 else 0 for i in range(n + vac_modes)]\n",
    "alpha[0] = 0.0\n",
    "phi = [0] * (n + vac_modes)\n",
    "phi[0] = np.pi / 2\n",
    "theta = [0] * (n + vac_modes)  # We will measure first all the states in the X quadrature\n",
    "\n",
    "singleloop(r, alpha, phi, theta, shots)"
   ]
  },
  {
   "cell_type": "code",
   "execution_count": 30,
   "id": "f5fcc3f2",
   "metadata": {},
   "outputs": [
    {
     "data": {
      "text/plain": [
       "array([[ -0.52960821,  29.02743432, -93.3646886 ,  32.95431112,\n",
       "        -39.99464345,  45.80328279, -52.37852011,  59.10381464,\n",
       "         -8.2737421 ,   7.31907984,  19.76999235]])"
      ]
     },
     "execution_count": 30,
     "metadata": {},
     "output_type": "execute_result"
    }
   ],
   "source": [
    "theta = [np.pi / 2] * (n + vac_modes)  # Now we measure in p quadrature\n",
    "\n",
    "samplep = singleloop(r, alpha, phi, theta, shots)\n",
    "samplep"
   ]
  },
  {
   "cell_type": "code",
   "execution_count": 31,
   "id": "a5195164",
   "metadata": {},
   "outputs": [
    {
     "data": {
      "text/plain": [
       "0.0"
      ]
     },
     "execution_count": 31,
     "metadata": {},
     "output_type": "execute_result"
    }
   ],
   "source": [
    "np.sum(samplep[1:]) "
   ]
  },
  {
   "cell_type": "code",
   "execution_count": 32,
   "id": "dd16b9c1",
   "metadata": {},
   "outputs": [],
   "source": [
    "shots = 10000\n",
    "theta = [0] * (n + vac_modes)\n",
    "samplesGHZx = singleloop(r, alpha, phi, theta, shots)\n",
    "\n",
    "nullifier_X = lambda sample: (sample - sample[-1])[vac_modes:-1]\n",
    "val_nullifier_X = np.var([nullifier_X(x) for x in samplesGHZx], axis=0)"
   ]
  },
  {
   "cell_type": "code",
   "execution_count": 33,
   "id": "2cc1fc6e",
   "metadata": {},
   "outputs": [
    {
     "data": {
      "text/plain": [
       "array([0.00069353, 0.00066663, 0.00066681, 0.00067528, 0.0006789 ,\n",
       "       0.00068246, 0.00067754, 0.0006766 , 0.00067778])"
      ]
     },
     "execution_count": 33,
     "metadata": {},
     "output_type": "execute_result"
    }
   ],
   "source": [
    "val_nullifier_X"
   ]
  },
  {
   "cell_type": "code",
   "execution_count": 34,
   "id": "454362e6",
   "metadata": {},
   "outputs": [
    {
     "data": {
      "text/plain": [
       "0.0006709252558050236"
      ]
     },
     "execution_count": 34,
     "metadata": {},
     "output_type": "execute_result"
    }
   ],
   "source": [
    "2 * np.exp(-2 * r)"
   ]
  },
  {
   "cell_type": "code",
   "execution_count": 35,
   "id": "6533dffd",
   "metadata": {},
   "outputs": [],
   "source": [
    "from braket.strawberryfields_plugin import BraketEngine\n",
    "\n",
    "eng = BraketEngine(\"arn:aws:braket:us-east-1::device/qpu/xanadu/Borealis\")\n",
    "device = eng.device"
   ]
  },
  {
   "cell_type": "code",
   "execution_count": 36,
   "id": "615afbc5",
   "metadata": {},
   "outputs": [
    {
     "name": "stderr",
     "output_type": "stream",
     "text": [
      "2023-03-15 02:49:40,245 - WARNING - 117/259 arguments of phase gate 1 have been shifted by pi in order to be compatible with the phase modulators.\n",
      "2023-03-15 02:49:40,247 - WARNING - 139/259 arguments of phase gate 2 have been shifted by pi in order to be compatible with the phase modulators.\n"
     ]
    }
   ],
   "source": [
    "from strawberryfields.tdm import borealis_gbs, get_mode_indices\n",
    "\n",
    "gate_args_list = borealis_gbs(device, modes=216, squeezing=\"high\")\n",
    "delays = [1, 6, 36]\n",
    "n, N = get_mode_indices(delays)"
   ]
  },
  {
   "cell_type": "code",
   "execution_count": 37,
   "id": "22c7e6a7",
   "metadata": {},
   "outputs": [],
   "source": [
    "from strawberryfields.ops import Sgate, Rgate, BSgate, MeasureFock\n",
    "\n",
    "prog = sf.TDMProgram(N)\n",
    "\n",
    "with prog.context(*gate_args_list) as (p, q):\n",
    "    Sgate(p[0]) | q[n[0]]\n",
    "    for i in range(len(delays)):\n",
    "        Rgate(p[2 * i + 1]) | q[n[i]]\n",
    "        BSgate(p[2 * i + 2], np.pi / 2) | (q[n[i + 1]], q[n[i]])\n",
    "    MeasureFock() | q[0]"
   ]
  },
  {
   "cell_type": "code",
   "execution_count": null,
   "id": "813ca6fa",
   "metadata": {},
   "outputs": [],
   "source": [
    "shots = 1000\n",
    "results = eng.run(prog, shots=shots, crop=True)\n",
    "print(results.samples)"
   ]
  },
  {
   "cell_type": "code",
   "execution_count": null,
   "id": "928b058b",
   "metadata": {},
   "outputs": [],
   "source": []
  }
 ],
 "metadata": {
  "kernelspec": {
   "display_name": "conda_braket",
   "language": "python",
   "name": "conda_braket"
  },
  "language_info": {
   "codemirror_mode": {
    "name": "ipython",
    "version": 3
   },
   "file_extension": ".py",
   "mimetype": "text/x-python",
   "name": "python",
   "nbconvert_exporter": "python",
   "pygments_lexer": "ipython3",
   "version": "3.8.16"
  }
 },
 "nbformat": 4,
 "nbformat_minor": 5
}
