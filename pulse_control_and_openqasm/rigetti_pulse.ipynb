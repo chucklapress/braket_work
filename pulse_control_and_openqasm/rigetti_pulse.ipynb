{
 "cells": [
  {
   "cell_type": "code",
   "execution_count": 1,
   "id": "89117681",
   "metadata": {},
   "outputs": [],
   "source": [
    "from braket.aws import AwsDevice\n",
    "from braket.pulse import PulseSequence, ArbitraryWaveform, GaussianWaveform\n",
    "\n",
    "from braket.circuits import Circuit\n",
    "import braket.circuits.circuit as circuit"
   ]
  },
  {
   "cell_type": "code",
   "execution_count": 2,
   "id": "e7240821",
   "metadata": {},
   "outputs": [],
   "source": [
    "a=27 #specifies the control qubit\n",
    "b=124 #specifies the target qubit\n",
    "device = AwsDevice(\"arn:aws:braket:us-west-1::device/qpu/rigetti/Aspen-M-3\")"
   ]
  },
  {
   "cell_type": "code",
   "execution_count": 3,
   "id": "fff424d3",
   "metadata": {},
   "outputs": [],
   "source": [
    "import numpy as np\n",
    "import matplotlib.pyplot as plt\n",
    "@circuit.subroutine(register=True)\n",
    "def rigetti_native_h(q0):\n",
    "    return (\n",
    "        Circuit()\n",
    "        .rz(q0, np.pi)\n",
    "        .rx(q0, np.pi/2)\n",
    "        .rz(q0, np.pi/2)\n",
    "        .rx(q0, -np.pi/2)\n",
    "    )"
   ]
  },
  {
   "cell_type": "code",
   "execution_count": 4,
   "id": "e6c503c4",
   "metadata": {},
   "outputs": [
    {
     "name": "stdout",
     "output_type": "stream",
     "text": [
      "CZ pulse duration: 124.0 ns\n"
     ]
    }
   ],
   "source": [
    "a_b_cz_wfm = ArbitraryWaveform([0.0, 0.0, 0.0, 0.0, 0.0, 0.0, 0.0, 0.0, 0.00017888439538396808, 0.00046751103636033026, 0.0011372942989106456, 0.002577059611929697, 0.005443941944632366, 0.010731922770068104, 0.01976701723583167, 0.03406712171899736, 0.05503285980691202, 0.08350670755829034, 0.11932853352131022, 0.16107456696238298, 0.20614055551722368, 0.2512065440720643, 0.292952577513137, 0.328774403476157, 0.3572482512275353, 0.3782139893154499, 0.3925140937986156, 0.40154918826437913, 0.4068371690898149, 0.4097040514225177, 0.41114381673553674, 0.411813599998087, 0.4121022266390633, 0.4122174383870584, 0.41226003881132406, 0.4122746298554775, 0.4122792591252675, 0.4122806196003006, 0.41228098995582513, 0.41228108334474756, 0.4122811051578895, 0.4122811098772742, 0.4122811108230642, 0.4122811109986316, 0.41228111102881937, 0.41228111103362725, 0.4122811110343365, 0.41228111103443343, 0.4122811110344457, 0.4122811110344471, 0.41228111103444737, 0.41228111103444737, 0.41228111103444737, 0.41228111103444737, 0.41228111103444737, 0.41228111103444737, 0.41228111103444737, 0.41228111103444737, 0.41228111103444737, 0.41228111103444737, 0.41228111103444737, 0.41228111103444737, 0.41228111103444737, 0.41228111103444737, 0.41228111103444737, 0.41228111103444737, 0.41228111103444737, 0.41228111103444737, 0.41228111103444737, 0.41228111103444737, 0.41228111103444737, 0.41228111103444737, 0.41228111103444737, 0.41228111103444737, 0.41228111103444737, 0.4122811110344471, 0.4122811110344457, 0.41228111103443343, 0.4122811110343365, 0.41228111103362725, 0.41228111102881937, 0.4122811109986316, 0.4122811108230642, 0.4122811098772742, 0.4122811051578895, 0.41228108334474756, 0.41228098995582513, 0.4122806196003006, 0.4122792591252675, 0.4122746298554775, 0.41226003881132406, 0.4122174383870584, 0.4121022266390633, 0.411813599998087, 0.41114381673553674, 0.4097040514225176, 0.4068371690898149, 0.40154918826437913, 0.3925140937986155, 0.37821398931544986, 0.3572482512275351, 0.32877440347615655, 0.2929525775131368, 0.2512065440720641, 0.20614055551722307, 0.16107456696238268, 0.11932853352131002, 0.08350670755829034, 0.05503285980691184, 0.03406712171899729, 0.01976701723583167, 0.010731922770068058, 0.005443941944632366, 0.002577059611929697, 0.0011372942989106229, 0.00046751103636033026, 0.0, 0.0, 0.0, 0.0, 0.0, 0.0, 0.0, 0.0])\n",
    "a_b_cz_frame = device.frames[f'q{a}_q{b}_cz_frame']\n",
    "\n",
    "dt = a_b_cz_frame.port.dt\n",
    "a_b_cz_wfm_duration = len(a_b_cz_wfm.amplitudes)*dt\n",
    "print('CZ pulse duration:', a_b_cz_wfm_duration*1e9, 'ns')"
   ]
  },
  {
   "cell_type": "code",
   "execution_count": 5,
   "id": "3c0cf86e",
   "metadata": {},
   "outputs": [],
   "source": [
    "phase_shift_a=1.1733407221086924\n",
    "phase_shift_b=6.269846678712192\n",
    "\n",
    "a_rf_frame = device.frames[f'q{a}_rf_frame']\n",
    "b_rf_frame = device.frames[f'q{b}_rf_frame']\n",
    "\n",
    "frames = [a_rf_frame, b_rf_frame, a_b_cz_frame]\n",
    "\n",
    "cz_pulse_sequence = (\n",
    "    PulseSequence()\n",
    "    .barrier(frames)\n",
    "    .play(a_b_cz_frame, a_b_cz_wfm)\n",
    "    .delay(a_rf_frame, a_b_cz_wfm_duration)\n",
    "    .shift_phase(a_rf_frame, phase_shift_a)\n",
    "    .delay(b_rf_frame, a_b_cz_wfm_duration)\n",
    "    .shift_phase(b_rf_frame, phase_shift_b)\n",
    "    .barrier(frames)\n",
    ")"
   ]
  },
  {
   "cell_type": "code",
   "execution_count": 6,
   "id": "e9304162",
   "metadata": {},
   "outputs": [
    {
     "name": "stdout",
     "output_type": "stream",
     "text": [
      "T    : |   0    |   1    |   2    |    3    |4 |   5    |   6    |   7    |    8    |\n",
      "                                                                                     \n",
      "q27  : -Rz(3.14)-Rx(1.57)-Rz(1.57)-Rx(-1.57)-PG--------------------------------------\n",
      "                                             |                                       \n",
      "q124 : -Rz(3.14)-Rx(1.57)-Rz(1.57)-Rx(-1.57)-PG-Rz(3.14)-Rx(1.57)-Rz(1.57)-Rx(-1.57)-\n",
      "\n",
      "T    : |   0    |   1    |   2    |    3    |4 |   5    |   6    |   7    |    8    |\n"
     ]
    }
   ],
   "source": [
    "bell_circuit_pulse = (\n",
    "    Circuit()\n",
    "    .rigetti_native_h(a)\n",
    "    .rigetti_native_h(b)\n",
    "    .pulse_gate([a, b], cz_pulse_sequence)\n",
    "    .rigetti_native_h(b)\n",
    ")\n",
    "print(bell_circuit_pulse)"
   ]
  },
  {
   "cell_type": "code",
   "execution_count": null,
   "id": "be6f291b",
   "metadata": {},
   "outputs": [],
   "source": [
    "task = device.run(bell_circuit_pulse, shots=20)\n",
    "\n",
    "counts = task.result().measurement_counts\n",
    "\n",
    "plt.bar(sorted(counts), [counts[k] for k in sorted(counts)])"
   ]
  },
  {
   "cell_type": "code",
   "execution_count": null,
   "id": "af84663e",
   "metadata": {},
   "outputs": [],
   "source": []
  }
 ],
 "metadata": {
  "kernelspec": {
   "display_name": "conda_braket",
   "language": "python",
   "name": "conda_braket"
  },
  "language_info": {
   "codemirror_mode": {
    "name": "ipython",
    "version": 3
   },
   "file_extension": ".py",
   "mimetype": "text/x-python",
   "name": "python",
   "nbconvert_exporter": "python",
   "pygments_lexer": "ipython3",
   "version": "3.8.16"
  }
 },
 "nbformat": 4,
 "nbformat_minor": 5
}
